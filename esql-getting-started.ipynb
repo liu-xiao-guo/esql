{
 "cells": [
  {
   "cell_type": "markdown",
   "id": "41fa1fbe-d3ce-4e5f-bd0d-c9dc4b11efdf",
   "metadata": {},
   "source": [
    "# Import packages"
   ]
  },
  {
   "cell_type": "code",
   "execution_count": 2,
   "id": "08015202-f2a3-40ce-b7d4-5cefa299d35f",
   "metadata": {},
   "outputs": [
    {
     "name": "stdout",
     "output_type": "stream",
     "text": [
      "{'name': 'liuxgm.local', 'cluster_name': 'elasticsearch', 'cluster_uuid': '1FpGdI1WRcaqlKk01d0dYw', 'version': {'number': '8.12.0', 'build_flavor': 'default', 'build_type': 'tar', 'build_hash': '1665f706fd9354802c02146c1e6b5c0fbcddfbc9', 'build_date': '2024-01-11T10:05:27.953830042Z', 'build_snapshot': False, 'lucene_version': '9.9.1', 'minimum_wire_compatibility_version': '7.17.0', 'minimum_index_compatibility_version': '7.0.0'}, 'tagline': 'You Know, for Search'}\n"
     ]
    }
   ],
   "source": [
    "from dotenv import load_dotenv\n",
    "from elasticsearch import Elasticsearch\n",
    "from elasticsearch.helpers import bulk\n",
    "import os\n",
    "\n",
    "load_dotenv()\n",
    "\n",
    "ES_USER = os.getenv(\"ES_USER\")\n",
    "ES_PASSWORD = os.getenv(\"ES_PASSWORD\")\n",
    "ES_ENDPOINT = os.getenv(\"ES_ENDPOINT\")\n",
    "\n",
    "url = f\"https://{ES_USER}:{ES_PASSWORD}@{ES_ENDPOINT}:9200\"\n",
    "\n",
    "es = Elasticsearch(\n",
    "    hosts=[url], \n",
    "    ca_certs = \"./http_ca.crt\", \n",
    "    verify_certs = True\n",
    ")\n",
    "\n",
    "print(es.info())"
   ]
  },
  {
   "cell_type": "markdown",
   "id": "c32ad3b8-6ed8-417c-b13d-d481a9384293",
   "metadata": {},
   "source": [
    "# Add sample data to Elasticsearch"
   ]
  },
  {
   "cell_type": "code",
   "execution_count": 4,
   "id": "e2840a85-b219-46aa-a304-7d027b5fd02d",
   "metadata": {},
   "outputs": [],
   "source": [
    "index_name = \"sample_data\"\n",
    "\n",
    "mappings = {\n",
    "    \"mappings\": {\n",
    "        \"properties\": {\"client_ip\": {\"type\": \"ip\"}, \"message\": {\"type\": \"keyword\"}}\n",
    "    }\n",
    "}\n",
    "\n",
    "# Create the index\n",
    "if not es.indices.exists(index=index_name):\n",
    "    es.indices.create(index=index_name, body=mappings)"
   ]
  },
  {
   "cell_type": "markdown",
   "id": "548cc7e4-0670-41d7-9ac6-27c5f7205c0d",
   "metadata": {},
   "source": [
    "## Now we can index the data using the Elasticsearch Python client's bulk helpers."
   ]
  },
  {
   "cell_type": "code",
   "execution_count": 7,
   "id": "46fc71f5-1412-411d-a78a-2670bdfbbc44",
   "metadata": {},
   "outputs": [
    {
     "name": "stdout",
     "output_type": "stream",
     "text": [
      "Successfully indexed 7 documents.\n"
     ]
    }
   ],
   "source": [
    "# Documents to be indexed\n",
    "documents = [\n",
    "    {\n",
    "        \"@timestamp\": \"2023-10-23T12:15:03.360Z\",\n",
    "        \"client_ip\": \"172.21.2.162\",\n",
    "        \"message\": \"Connected to 10.1.0.3\",\n",
    "        \"event_duration\": 3450233,\n",
    "    },\n",
    "    {\n",
    "        \"@timestamp\": \"2023-10-23T12:27:28.948Z\",\n",
    "        \"client_ip\": \"172.21.2.113\",\n",
    "        \"message\": \"Connected to 10.1.0.2\",\n",
    "        \"event_duration\": 2764889,\n",
    "    },\n",
    "    {\n",
    "        \"@timestamp\": \"2023-10-23T13:33:34.937Z\",\n",
    "        \"client_ip\": \"172.21.0.5\",\n",
    "        \"message\": \"Disconnected\",\n",
    "        \"event_duration\": 1232382,\n",
    "    },\n",
    "    {\n",
    "        \"@timestamp\": \"2023-10-23T13:51:54.732Z\",\n",
    "        \"client_ip\": \"172.21.3.15\",\n",
    "        \"message\": \"Connection error\",\n",
    "        \"event_duration\": 725448,\n",
    "    },\n",
    "    {\n",
    "        \"@timestamp\": \"2023-10-23T13:52:55.015Z\",\n",
    "        \"client_ip\": \"172.21.3.15\",\n",
    "        \"message\": \"Connection error\",\n",
    "        \"event_duration\": 8268153,\n",
    "    },\n",
    "    {\n",
    "        \"@timestamp\": \"2023-10-23T13:53:55.832Z\",\n",
    "        \"client_ip\": \"172.21.3.15\",\n",
    "        \"message\": \"Connection error\",\n",
    "        \"event_duration\": 5033755,\n",
    "    },\n",
    "    {\n",
    "        \"@timestamp\": \"2023-10-23T13:55:01.543Z\",\n",
    "        \"client_ip\": \"172.21.3.15\",\n",
    "        \"message\": \"Connected to 10.1.0.1\",\n",
    "        \"event_duration\": 1756467,\n",
    "    },\n",
    "]\n",
    "\n",
    "# Prepare the actions for the bulk API using list comprehension\n",
    "actions = [{\"_index\": index_name, \"_source\": doc} for doc in documents]\n",
    "\n",
    "# Perform the bulk index operation and capture the response\n",
    "success, failed = bulk(es, actions)\n",
    "\n",
    "if failed:\n",
    "    print(f\"Some documents failed to index: {failed}\")\n",
    "else:\n",
    "    print(f\"Successfully indexed {success} documents.\")"
   ]
  },
  {
   "cell_type": "markdown",
   "id": "d2250f9a-1aab-407b-a61f-7cea3a12eac2",
   "metadata": {},
   "source": [
    "## Suppress specific Elasticsearch warnings about default limit of [500] that pollute responses"
   ]
  },
  {
   "cell_type": "code",
   "execution_count": 9,
   "id": "76365537-ab98-4e6a-adf5-7ec8014d2b77",
   "metadata": {},
   "outputs": [],
   "source": [
    "import warnings\n",
    "from elasticsearch import ElasticsearchWarning\n",
    "\n",
    "warnings.filterwarnings(\"ignore\", category=ElasticsearchWarning)"
   ]
  },
  {
   "cell_type": "markdown",
   "id": "ab39b880-ed18-431b-9e70-78e177fa4c1c",
   "metadata": {},
   "source": [
    "## Format response to return human-readable tables"
   ]
  },
  {
   "cell_type": "code",
   "execution_count": 10,
   "id": "d7eef267-255f-43c8-a312-f51e91c6f785",
   "metadata": {},
   "outputs": [],
   "source": [
    "def format_response(response_data):\n",
    "    column_names = [col[\"name\"] for col in response_data[\"columns\"]]\n",
    "    column_widths = [\n",
    "        max(\n",
    "            len(name),\n",
    "            max(\n",
    "                (\n",
    "                    len(str(row[i]) if row[i] is not None else \"None\")\n",
    "                    for row in response_data[\"values\"]\n",
    "                ),\n",
    "                default=0,\n",
    "            ),\n",
    "        )\n",
    "        for i, name in enumerate(column_names)\n",
    "    ]\n",
    "    row_format = \" | \".join([\"{:<\" + str(width) + \"}\" for width in column_widths])\n",
    "    print(row_format.format(*column_names))\n",
    "    print(\"-\" * sum(column_widths) + \"-\" * (len(column_widths) - 1) * 3)\n",
    "    for row in response_data[\"values\"]:\n",
    "        # Convert None values in the row to \"None\" before formatting\n",
    "        formatted_row = [(str(cell) if cell is not None else \"None\") for cell in row]\n",
    "        print(row_format.format(*formatted_row))"
   ]
  },
  {
   "cell_type": "markdown",
   "id": "8f73a3ed-9aa7-4cfa-a22b-db836ffdd3a1",
   "metadata": {},
   "source": [
    "# Your first ES|QL query"
   ]
  },
  {
   "cell_type": "code",
   "execution_count": 12,
   "id": "70814be3-0c40-4c85-bb97-d454542badd3",
   "metadata": {},
   "outputs": [
    {
     "name": "stdout",
     "output_type": "stream",
     "text": [
      "@timestamp               | client.ip    | client_ip    | client_ip.keyword | event.duration | event_duration | message              \n",
      "------------------------------------------------------------------------------------------------------------------------------------\n",
      "2023-10-23T12:15:03.360Z | 172.21.2.162 | None         | None              | 3450233        | None           | Connected to 10.1.0.3\n",
      "2023-10-23T12:27:28.948Z | 172.21.2.113 | None         | None              | 2764889        | None           | Connected to 10.1.0.2\n",
      "2023-10-23T13:33:34.937Z | 172.21.0.5   | None         | None              | 1232382        | None           | Disconnected         \n",
      "2023-10-23T13:51:54.732Z | 172.21.3.15  | None         | None              | 725448         | None           | Connection error     \n",
      "2023-10-23T13:52:55.015Z | 172.21.3.15  | None         | None              | 8268153        | None           | Connection error     \n",
      "2023-10-23T13:53:55.832Z | 172.21.3.15  | None         | None              | 5033755        | None           | Connection error     \n",
      "2023-10-23T13:55:01.543Z | 172.21.3.15  | None         | None              | 1756467        | None           | Connected to 10.1.0.1\n",
      "2023-10-23T12:15:03.360Z | None         | 172.21.2.162 | 172.21.2.162      | None           | 3450233        | Connected to 10.1.0.3\n",
      "2023-10-23T12:27:28.948Z | None         | 172.21.2.113 | 172.21.2.113      | None           | 2764889        | Connected to 10.1.0.2\n",
      "2023-10-23T13:33:34.937Z | None         | 172.21.0.5   | 172.21.0.5        | None           | 1232382        | Disconnected         \n",
      "2023-10-23T13:51:54.732Z | None         | 172.21.3.15  | 172.21.3.15       | None           | 725448         | Connection error     \n",
      "2023-10-23T13:52:55.015Z | None         | 172.21.3.15  | 172.21.3.15       | None           | 8268153        | Connection error     \n",
      "2023-10-23T13:53:55.832Z | None         | 172.21.3.15  | 172.21.3.15       | None           | 5033755        | Connection error     \n",
      "2023-10-23T13:55:01.543Z | None         | 172.21.3.15  | 172.21.3.15       | None           | 1756467        | Connected to 10.1.0.1\n"
     ]
    }
   ],
   "source": [
    "esql_query = \"FROM sample_data\"\n",
    "\n",
    "response = es.esql.query(query=esql_query)\n",
    "format_response(response)"
   ]
  },
  {
   "cell_type": "markdown",
   "id": "f1f8c7c8-5069-4409-a44a-7d9453a7efd5",
   "metadata": {},
   "source": [
    "# Processing commands"
   ]
  },
  {
   "cell_type": "code",
   "execution_count": 14,
   "id": "62c6f1f5-3bf2-4cc5-8e04-a227587e4778",
   "metadata": {
    "scrolled": true
   },
   "outputs": [
    {
     "name": "stdout",
     "output_type": "stream",
     "text": [
      "@timestamp               | client.ip    | client_ip | client_ip.keyword | event.duration | event_duration | message              \n",
      "---------------------------------------------------------------------------------------------------------------------------------\n",
      "2023-10-23T12:15:03.360Z | 172.21.2.162 | None      | None              | 3450233        | None           | Connected to 10.1.0.3\n",
      "2023-10-23T12:27:28.948Z | 172.21.2.113 | None      | None              | 2764889        | None           | Connected to 10.1.0.2\n",
      "2023-10-23T13:33:34.937Z | 172.21.0.5   | None      | None              | 1232382        | None           | Disconnected         \n"
     ]
    }
   ],
   "source": [
    "esql_query = \"\"\"\n",
    "FROM sample_data\n",
    "| LIMIT 3\n",
    "\"\"\"\n",
    "\n",
    "response = es.esql.query(query=esql_query)\n",
    "format_response(response)"
   ]
  },
  {
   "cell_type": "markdown",
   "id": "c292d555-38f6-4166-9ace-f4a0c533ccaf",
   "metadata": {},
   "source": [
    "# Sort a table"
   ]
  },
  {
   "cell_type": "code",
   "execution_count": 15,
   "id": "d910f806-5619-404c-a208-2b829b07bb1c",
   "metadata": {
    "scrolled": true
   },
   "outputs": [
    {
     "name": "stdout",
     "output_type": "stream",
     "text": [
      "@timestamp               | client.ip    | client_ip    | client_ip.keyword | event.duration | event_duration | message              \n",
      "------------------------------------------------------------------------------------------------------------------------------------\n",
      "2023-10-23T13:55:01.543Z | None         | 172.21.3.15  | 172.21.3.15       | None           | 1756467        | Connected to 10.1.0.1\n",
      "2023-10-23T13:55:01.543Z | 172.21.3.15  | None         | None              | 1756467        | None           | Connected to 10.1.0.1\n",
      "2023-10-23T13:53:55.832Z | None         | 172.21.3.15  | 172.21.3.15       | None           | 5033755        | Connection error     \n",
      "2023-10-23T13:53:55.832Z | 172.21.3.15  | None         | None              | 5033755        | None           | Connection error     \n",
      "2023-10-23T13:52:55.015Z | None         | 172.21.3.15  | 172.21.3.15       | None           | 8268153        | Connection error     \n",
      "2023-10-23T13:52:55.015Z | 172.21.3.15  | None         | None              | 8268153        | None           | Connection error     \n",
      "2023-10-23T13:51:54.732Z | 172.21.3.15  | None         | None              | 725448         | None           | Connection error     \n",
      "2023-10-23T13:51:54.732Z | None         | 172.21.3.15  | 172.21.3.15       | None           | 725448         | Connection error     \n",
      "2023-10-23T13:33:34.937Z | None         | 172.21.0.5   | 172.21.0.5        | None           | 1232382        | Disconnected         \n",
      "2023-10-23T13:33:34.937Z | 172.21.0.5   | None         | None              | 1232382        | None           | Disconnected         \n",
      "2023-10-23T12:27:28.948Z | 172.21.2.113 | None         | None              | 2764889        | None           | Connected to 10.1.0.2\n",
      "2023-10-23T12:27:28.948Z | None         | 172.21.2.113 | 172.21.2.113      | None           | 2764889        | Connected to 10.1.0.2\n",
      "2023-10-23T12:15:03.360Z | None         | 172.21.2.162 | 172.21.2.162      | None           | 3450233        | Connected to 10.1.0.3\n",
      "2023-10-23T12:15:03.360Z | 172.21.2.162 | None         | None              | 3450233        | None           | Connected to 10.1.0.3\n"
     ]
    }
   ],
   "source": [
    "esql_query = \"\"\"\n",
    "FROM sample_data\n",
    "| SORT @timestamp DESC\n",
    "\"\"\"\n",
    "\n",
    "response = es.esql.query(query=esql_query)\n",
    "format_response(response)"
   ]
  },
  {
   "cell_type": "markdown",
   "id": "82141bf0-8673-46b3-bbe5-38c92cee04e9",
   "metadata": {},
   "source": [
    "# Query the data"
   ]
  },
  {
   "cell_type": "code",
   "execution_count": 17,
   "id": "a03baf13-7b99-4c1a-8902-aa5ee518fd45",
   "metadata": {},
   "outputs": [
    {
     "name": "stdout",
     "output_type": "stream",
     "text": [
      "@timestamp               | client.ip | client_ip   | client_ip.keyword | event.duration | event_duration | message         \n",
      "---------------------------------------------------------------------------------------------------------------------------\n",
      "2023-10-23T13:52:55.015Z | None      | 172.21.3.15 | 172.21.3.15       | None           | 8268153        | Connection error\n",
      "2023-10-23T13:53:55.832Z | None      | 172.21.3.15 | 172.21.3.15       | None           | 5033755        | Connection error\n"
     ]
    }
   ],
   "source": [
    "esql_query = \"\"\"\n",
    "FROM sample_data\n",
    "| WHERE event_duration > 5000000\n",
    "\"\"\"\n",
    "\n",
    "response = es.esql.query(query=esql_query)\n",
    "format_response(response)"
   ]
  },
  {
   "cell_type": "markdown",
   "id": "8d435e97-2552-443a-9ed0-ba5dcb7e2a58",
   "metadata": {},
   "source": [
    "## WHERE supports several operators.\n",
    "## For example, you can use LIKE to run a wildcard query against the message column:"
   ]
  },
  {
   "cell_type": "code",
   "execution_count": 18,
   "id": "d0b73485-1557-49ee-abf0-41e64ba1b34e",
   "metadata": {},
   "outputs": [
    {
     "name": "stdout",
     "output_type": "stream",
     "text": [
      "@timestamp               | client.ip    | client_ip    | client_ip.keyword | event.duration | event_duration | message              \n",
      "------------------------------------------------------------------------------------------------------------------------------------\n",
      "2023-10-23T12:15:03.360Z | 172.21.2.162 | None         | None              | 3450233        | None           | Connected to 10.1.0.3\n",
      "2023-10-23T12:27:28.948Z | 172.21.2.113 | None         | None              | 2764889        | None           | Connected to 10.1.0.2\n",
      "2023-10-23T13:55:01.543Z | 172.21.3.15  | None         | None              | 1756467        | None           | Connected to 10.1.0.1\n",
      "2023-10-23T12:15:03.360Z | None         | 172.21.2.162 | 172.21.2.162      | None           | 3450233        | Connected to 10.1.0.3\n",
      "2023-10-23T12:27:28.948Z | None         | 172.21.2.113 | 172.21.2.113      | None           | 2764889        | Connected to 10.1.0.2\n",
      "2023-10-23T13:55:01.543Z | None         | 172.21.3.15  | 172.21.3.15       | None           | 1756467        | Connected to 10.1.0.1\n"
     ]
    }
   ],
   "source": [
    "esql_query = \"\"\"\n",
    "FROM sample_data\n",
    "| WHERE message LIKE \"Connected*\"\n",
    "\"\"\"\n",
    "\n",
    "response = es.esql.query(query=esql_query)\n",
    "format_response(response)"
   ]
  },
  {
   "cell_type": "markdown",
   "id": "5d5a12bb-8557-4ac0-b5e9-b20e06ad5111",
   "metadata": {},
   "source": [
    "# Chain processing commands"
   ]
  },
  {
   "cell_type": "code",
   "execution_count": 19,
   "id": "ae39bb35-8a85-4fcd-a514-7cc0f4796f1e",
   "metadata": {},
   "outputs": [
    {
     "name": "stdout",
     "output_type": "stream",
     "text": [
      "@timestamp               | client.ip   | client_ip   | client_ip.keyword | event.duration | event_duration | message              \n",
      "----------------------------------------------------------------------------------------------------------------------------------\n",
      "2023-10-23T13:55:01.543Z | None        | 172.21.3.15 | 172.21.3.15       | None           | 1756467        | Connected to 10.1.0.1\n",
      "2023-10-23T13:55:01.543Z | 172.21.3.15 | None        | None              | 1756467        | None           | Connected to 10.1.0.1\n",
      "2023-10-23T13:53:55.832Z | 172.21.3.15 | None        | None              | 5033755        | None           | Connection error     \n"
     ]
    }
   ],
   "source": [
    "esql_query = \"\"\"\n",
    "FROM sample_data\n",
    "| SORT @timestamp DESC\n",
    "| LIMIT 3\n",
    "\"\"\"\n",
    "\n",
    "response = es.esql.query(query=esql_query)\n",
    "format_response(response)"
   ]
  },
  {
   "cell_type": "markdown",
   "id": "0804b164-a2fd-44bc-b882-9456fa25ce1f",
   "metadata": {},
   "source": [
    "# Compute values"
   ]
  },
  {
   "cell_type": "code",
   "execution_count": 20,
   "id": "4262bc9c-6729-4283-b7f9-17842b6251c4",
   "metadata": {},
   "outputs": [
    {
     "name": "stdout",
     "output_type": "stream",
     "text": [
      "@timestamp               | client.ip    | client_ip    | client_ip.keyword | event.duration | event_duration | message               | duration_ms\n",
      "--------------------------------------------------------------------------------------------------------------------------------------------------\n",
      "2023-10-23T12:15:03.360Z | 172.21.2.162 | None         | None              | 3450233        | None           | Connected to 10.1.0.3 | None       \n",
      "2023-10-23T12:27:28.948Z | 172.21.2.113 | None         | None              | 2764889        | None           | Connected to 10.1.0.2 | None       \n",
      "2023-10-23T13:33:34.937Z | 172.21.0.5   | None         | None              | 1232382        | None           | Disconnected          | None       \n",
      "2023-10-23T13:51:54.732Z | 172.21.3.15  | None         | None              | 725448         | None           | Connection error      | None       \n",
      "2023-10-23T13:52:55.015Z | 172.21.3.15  | None         | None              | 8268153        | None           | Connection error      | None       \n",
      "2023-10-23T13:53:55.832Z | 172.21.3.15  | None         | None              | 5033755        | None           | Connection error      | None       \n",
      "2023-10-23T13:55:01.543Z | 172.21.3.15  | None         | None              | 1756467        | None           | Connected to 10.1.0.1 | None       \n",
      "2023-10-23T12:15:03.360Z | None         | 172.21.2.162 | 172.21.2.162      | None           | 3450233        | Connected to 10.1.0.3 | 3.450233   \n",
      "2023-10-23T12:27:28.948Z | None         | 172.21.2.113 | 172.21.2.113      | None           | 2764889        | Connected to 10.1.0.2 | 2.764889   \n",
      "2023-10-23T13:33:34.937Z | None         | 172.21.0.5   | 172.21.0.5        | None           | 1232382        | Disconnected          | 1.232382   \n",
      "2023-10-23T13:51:54.732Z | None         | 172.21.3.15  | 172.21.3.15       | None           | 725448         | Connection error      | 0.725448   \n",
      "2023-10-23T13:52:55.015Z | None         | 172.21.3.15  | 172.21.3.15       | None           | 8268153        | Connection error      | 8.268153   \n",
      "2023-10-23T13:53:55.832Z | None         | 172.21.3.15  | 172.21.3.15       | None           | 5033755        | Connection error      | 5.033755   \n",
      "2023-10-23T13:55:01.543Z | None         | 172.21.3.15  | 172.21.3.15       | None           | 1756467        | Connected to 10.1.0.1 | 1.756467   \n"
     ]
    }
   ],
   "source": [
    "esql_query = \"\"\"\n",
    "FROM sample_data\n",
    "| EVAL duration_ms = event_duration/1000000.0\n",
    "\"\"\"\n",
    "\n",
    "response = es.esql.query(query=esql_query)\n",
    "format_response(response)"
   ]
  },
  {
   "cell_type": "markdown",
   "id": "5752f18d-bccc-4ce4-bd3f-5bb361118550",
   "metadata": {},
   "source": [
    "## EVAL supports several functions. For example, to round a number to the closest number with the specified number of digits, use the ROUND function:"
   ]
  },
  {
   "cell_type": "code",
   "execution_count": 21,
   "id": "1a3c5044-d340-4373-8780-8a7acb679f56",
   "metadata": {},
   "outputs": [
    {
     "name": "stdout",
     "output_type": "stream",
     "text": [
      "@timestamp               | client.ip    | client_ip    | client_ip.keyword | event.duration | event_duration | message               | duration_ms\n",
      "--------------------------------------------------------------------------------------------------------------------------------------------------\n",
      "2023-10-23T12:15:03.360Z | 172.21.2.162 | None         | None              | 3450233        | None           | Connected to 10.1.0.3 | None       \n",
      "2023-10-23T12:27:28.948Z | 172.21.2.113 | None         | None              | 2764889        | None           | Connected to 10.1.0.2 | None       \n",
      "2023-10-23T13:33:34.937Z | 172.21.0.5   | None         | None              | 1232382        | None           | Disconnected          | None       \n",
      "2023-10-23T13:51:54.732Z | 172.21.3.15  | None         | None              | 725448         | None           | Connection error      | None       \n",
      "2023-10-23T13:52:55.015Z | 172.21.3.15  | None         | None              | 8268153        | None           | Connection error      | None       \n",
      "2023-10-23T13:53:55.832Z | 172.21.3.15  | None         | None              | 5033755        | None           | Connection error      | None       \n",
      "2023-10-23T13:55:01.543Z | 172.21.3.15  | None         | None              | 1756467        | None           | Connected to 10.1.0.1 | None       \n",
      "2023-10-23T12:15:03.360Z | None         | 172.21.2.162 | 172.21.2.162      | None           | 3450233        | Connected to 10.1.0.3 | 3.5        \n",
      "2023-10-23T12:27:28.948Z | None         | 172.21.2.113 | 172.21.2.113      | None           | 2764889        | Connected to 10.1.0.2 | 2.8        \n",
      "2023-10-23T13:33:34.937Z | None         | 172.21.0.5   | 172.21.0.5        | None           | 1232382        | Disconnected          | 1.2        \n",
      "2023-10-23T13:51:54.732Z | None         | 172.21.3.15  | 172.21.3.15       | None           | 725448         | Connection error      | 0.7        \n",
      "2023-10-23T13:52:55.015Z | None         | 172.21.3.15  | 172.21.3.15       | None           | 8268153        | Connection error      | 8.3        \n",
      "2023-10-23T13:53:55.832Z | None         | 172.21.3.15  | 172.21.3.15       | None           | 5033755        | Connection error      | 5.0        \n",
      "2023-10-23T13:55:01.543Z | None         | 172.21.3.15  | 172.21.3.15       | None           | 1756467        | Connected to 10.1.0.1 | 1.8        \n"
     ]
    }
   ],
   "source": [
    "esql_query = \"\"\"\n",
    "FROM sample_data\n",
    "| EVAL duration_ms = ROUND(event_duration/1000000.0, 1)\n",
    "\"\"\"\n",
    "\n",
    "response = es.esql.query(query=esql_query)\n",
    "format_response(response)"
   ]
  },
  {
   "cell_type": "markdown",
   "id": "103cb203-cf97-4380-af48-db412c9eef3f",
   "metadata": {},
   "source": [
    "# Calculate statistics"
   ]
  },
  {
   "cell_type": "code",
   "execution_count": 22,
   "id": "b9532a6b-2b66-4715-8194-68071ce800ac",
   "metadata": {},
   "outputs": [
    {
     "name": "stdout",
     "output_type": "stream",
     "text": [
      "median_duration\n",
      "---------------\n",
      "2764889.0      \n"
     ]
    }
   ],
   "source": [
    "esql_query = \"\"\"\n",
    "FROM sample_data\n",
    "| STATS median_duration = MEDIAN(event_duration)\n",
    "\"\"\"\n",
    "\n",
    "response = es.esql.query(query=esql_query)\n",
    "format_response(response)"
   ]
  },
  {
   "cell_type": "markdown",
   "id": "25171fc4-595d-4782-83ad-f90979938ae4",
   "metadata": {},
   "source": [
    "## You can calculate multiple stats with one command:"
   ]
  },
  {
   "cell_type": "code",
   "execution_count": 24,
   "id": "2b432b7c-9aa3-42dc-8bd0-dd9245b10e0e",
   "metadata": {},
   "outputs": [
    {
     "name": "stdout",
     "output_type": "stream",
     "text": [
      "median_duration | max_duration\n",
      "------------------------------\n",
      "2764889.0       | 8268153     \n"
     ]
    }
   ],
   "source": [
    "esql_query = \"\"\"\n",
    "FROM sample_data\n",
    "| STATS median_duration = MEDIAN(event_duration), max_duration = MAX(event_duration)\n",
    "\"\"\"\n",
    "\n",
    "response = es.esql.query(query=esql_query)\n",
    "format_response(response)"
   ]
  },
  {
   "cell_type": "markdown",
   "id": "4de32700-9082-443c-b3ee-725cf46a746f",
   "metadata": {},
   "source": [
    "## Use BY to group calculated stats by one or more columns. For example, to calculate the median duration per client IP:"
   ]
  },
  {
   "cell_type": "code",
   "execution_count": 26,
   "id": "bada4c9d-3a53-444c-aaa3-74081addf44f",
   "metadata": {},
   "outputs": [
    {
     "name": "stdout",
     "output_type": "stream",
     "text": [
      "median_duration | client_ip   \n",
      "------------------------------\n",
      "None            | None        \n",
      "1232382.0       | 172.21.0.5  \n",
      "2764889.0       | 172.21.2.113\n",
      "3450233.0       | 172.21.2.162\n",
      "3395111.0       | 172.21.3.15 \n"
     ]
    }
   ],
   "source": [
    "esql_query = \"\"\"\n",
    "FROM sample_data\n",
    "| STATS median_duration = MEDIAN(event_duration) BY client_ip\n",
    "\"\"\"\n",
    "\n",
    "response = es.esql.query(query=esql_query)\n",
    "format_response(response)"
   ]
  },
  {
   "cell_type": "markdown",
   "id": "db3463f7-b9bf-4dc5-8ffb-1e695cc280af",
   "metadata": {},
   "source": [
    "# Access columns"
   ]
  },
  {
   "cell_type": "code",
   "execution_count": 27,
   "id": "b38e9b6e-bb56-40a5-83d6-a08320848b93",
   "metadata": {},
   "outputs": [
    {
     "name": "stdout",
     "output_type": "stream",
     "text": [
      "@timestamp               | client.ip    | client_ip    | client_ip.keyword | event.duration | event_duration | message               | event_duration/1000000.0\n",
      "---------------------------------------------------------------------------------------------------------------------------------------------------------------\n",
      "2023-10-23T12:15:03.360Z | 172.21.2.162 | None         | None              | 3450233        | None           | Connected to 10.1.0.3 | None                    \n",
      "2023-10-23T12:27:28.948Z | 172.21.2.113 | None         | None              | 2764889        | None           | Connected to 10.1.0.2 | None                    \n",
      "2023-10-23T13:33:34.937Z | 172.21.0.5   | None         | None              | 1232382        | None           | Disconnected          | None                    \n",
      "2023-10-23T13:51:54.732Z | 172.21.3.15  | None         | None              | 725448         | None           | Connection error      | None                    \n",
      "2023-10-23T13:52:55.015Z | 172.21.3.15  | None         | None              | 8268153        | None           | Connection error      | None                    \n",
      "2023-10-23T13:53:55.832Z | 172.21.3.15  | None         | None              | 5033755        | None           | Connection error      | None                    \n",
      "2023-10-23T13:55:01.543Z | 172.21.3.15  | None         | None              | 1756467        | None           | Connected to 10.1.0.1 | None                    \n",
      "2023-10-23T12:15:03.360Z | None         | 172.21.2.162 | 172.21.2.162      | None           | 3450233        | Connected to 10.1.0.3 | 3.450233                \n",
      "2023-10-23T12:27:28.948Z | None         | 172.21.2.113 | 172.21.2.113      | None           | 2764889        | Connected to 10.1.0.2 | 2.764889                \n",
      "2023-10-23T13:33:34.937Z | None         | 172.21.0.5   | 172.21.0.5        | None           | 1232382        | Disconnected          | 1.232382                \n",
      "2023-10-23T13:51:54.732Z | None         | 172.21.3.15  | 172.21.3.15       | None           | 725448         | Connection error      | 0.725448                \n",
      "2023-10-23T13:52:55.015Z | None         | 172.21.3.15  | 172.21.3.15       | None           | 8268153        | Connection error      | 8.268153                \n",
      "2023-10-23T13:53:55.832Z | None         | 172.21.3.15  | 172.21.3.15       | None           | 5033755        | Connection error      | 5.033755                \n",
      "2023-10-23T13:55:01.543Z | None         | 172.21.3.15  | 172.21.3.15       | None           | 1756467        | Connected to 10.1.0.1 | 1.756467                \n"
     ]
    }
   ],
   "source": [
    "esql_query = \"\"\"\n",
    "FROM sample_data\n",
    "| EVAL event_duration/1000000.0\n",
    "\"\"\"\n",
    "\n",
    "response = es.esql.query(query=esql_query)\n",
    "format_response(response)"
   ]
  },
  {
   "cell_type": "markdown",
   "id": "d64228aa-030e-4bb2-a65c-5abfa74c3d0b",
   "metadata": {},
   "source": [
    "## In this query, EVAL adds a new column named event_duration/1000000.0. Because its name contains special characters, to access this column, quote it with backticks:"
   ]
  },
  {
   "cell_type": "code",
   "execution_count": 28,
   "id": "056f4fa7-9993-4784-a422-51d19b33d698",
   "metadata": {},
   "outputs": [
    {
     "name": "stdout",
     "output_type": "stream",
     "text": [
      "MEDIAN(`event_duration/1000000.0`)\n",
      "----------------------------------\n",
      "2.764889                          \n"
     ]
    }
   ],
   "source": [
    "esql_query = \"\"\"\n",
    "FROM sample_data\n",
    "| EVAL event_duration/1000000.0\n",
    "| STATS MEDIAN(`event_duration/1000000.0`)\n",
    "\"\"\"\n",
    "response = es.esql.query(query=esql_query)\n",
    "format_response(response)"
   ]
  },
  {
   "cell_type": "markdown",
   "id": "8911d29f-2605-42e0-a445-8528221ff7dc",
   "metadata": {},
   "source": [
    "# Create a histogram"
   ]
  },
  {
   "cell_type": "code",
   "execution_count": 29,
   "id": "4ea3b930-e5f7-40b4-90b0-4d27450c8dfd",
   "metadata": {},
   "outputs": [
    {
     "name": "stdout",
     "output_type": "stream",
     "text": [
      "@timestamp               | bucket                  \n",
      "---------------------------------------------------\n",
      "2023-10-23T12:15:03.360Z | 2023-10-23T12:00:00.000Z\n",
      "2023-10-23T12:27:28.948Z | 2023-10-23T12:00:00.000Z\n",
      "2023-10-23T13:33:34.937Z | 2023-10-23T13:00:00.000Z\n",
      "2023-10-23T13:51:54.732Z | 2023-10-23T13:00:00.000Z\n",
      "2023-10-23T13:52:55.015Z | 2023-10-23T13:00:00.000Z\n",
      "2023-10-23T13:53:55.832Z | 2023-10-23T13:00:00.000Z\n",
      "2023-10-23T13:55:01.543Z | 2023-10-23T13:00:00.000Z\n",
      "2023-10-23T12:15:03.360Z | 2023-10-23T12:00:00.000Z\n",
      "2023-10-23T12:27:28.948Z | 2023-10-23T12:00:00.000Z\n",
      "2023-10-23T13:33:34.937Z | 2023-10-23T13:00:00.000Z\n",
      "2023-10-23T13:51:54.732Z | 2023-10-23T13:00:00.000Z\n",
      "2023-10-23T13:52:55.015Z | 2023-10-23T13:00:00.000Z\n",
      "2023-10-23T13:53:55.832Z | 2023-10-23T13:00:00.000Z\n",
      "2023-10-23T13:55:01.543Z | 2023-10-23T13:00:00.000Z\n"
     ]
    }
   ],
   "source": [
    "esql_query = \"\"\"\n",
    "FROM sample_data\n",
    "| KEEP @timestamp\n",
    "| EVAL bucket = AUTO_BUCKET (@timestamp, 24, \"2023-10-23T00:00:00Z\", \"2023-10-23T23:59:59Z\")\n",
    "\"\"\"\n",
    "response = es.esql.query(query=esql_query)\n",
    "format_response(response)"
   ]
  },
  {
   "cell_type": "markdown",
   "id": "870fa55c-44e5-48f2-94c7-f30862d89016",
   "metadata": {},
   "source": [
    "## Combine AUTO_BUCKET with STATS ... BY to create a histogram. For example, to count the number of events per hour:"
   ]
  },
  {
   "cell_type": "code",
   "execution_count": 30,
   "id": "ec933979-8d52-4d45-b31d-d0e3ee7b5758",
   "metadata": {},
   "outputs": [
    {
     "name": "stdout",
     "output_type": "stream",
     "text": [
      "COUNT(*) | bucket                  \n",
      "-----------------------------------\n",
      "4        | 2023-10-23T12:00:00.000Z\n",
      "10       | 2023-10-23T13:00:00.000Z\n"
     ]
    }
   ],
   "source": [
    "esql_query = \"\"\"\n",
    "FROM sample_data\n",
    "| KEEP @timestamp, event_duration\n",
    "| EVAL bucket = AUTO_BUCKET (@timestamp, 24, \"2023-10-23T00:00:00Z\", \"2023-10-23T23:59:59Z\")\n",
    "| STATS COUNT(*) BY bucket\n",
    "\"\"\"\n",
    "response = es.esql.query(query=esql_query)\n",
    "format_response(response)"
   ]
  },
  {
   "cell_type": "markdown",
   "id": "dbd6569d-e633-47ef-805d-91a90d01c94e",
   "metadata": {},
   "source": [
    "## Or the median duration per hour:"
   ]
  },
  {
   "cell_type": "code",
   "execution_count": 31,
   "id": "a29728ab-082c-4dce-941a-b93befdc01e4",
   "metadata": {},
   "outputs": [
    {
     "name": "stdout",
     "output_type": "stream",
     "text": [
      "median_duration | bucket                  \n",
      "------------------------------------------\n",
      "3107561.0       | 2023-10-23T12:00:00.000Z\n",
      "1756467.0       | 2023-10-23T13:00:00.000Z\n"
     ]
    }
   ],
   "source": [
    "esql_query = \"\"\"\n",
    "FROM sample_data\n",
    "| KEEP @timestamp, event_duration\n",
    "| EVAL bucket = AUTO_BUCKET (@timestamp, 24, \"2023-10-23T00:00:00Z\", \"2023-10-23T23:59:59Z\")\n",
    "| STATS median_duration = MEDIAN(event_duration) BY bucket\n",
    "\"\"\"\n",
    "response = es.esql.query(query=esql_query)\n",
    "format_response(response)"
   ]
  },
  {
   "cell_type": "markdown",
   "id": "6fa70ef7-4a68-400a-85c1-353920820b89",
   "metadata": {},
   "source": [
    "# Enrich data"
   ]
  },
  {
   "cell_type": "code",
   "execution_count": 46,
   "id": "bc2303cf-545b-42bf-b662-6b17aa8ab9cc",
   "metadata": {},
   "outputs": [
    {
     "data": {
      "text/plain": [
       "ObjectApiResponse({'status': {'phase': 'COMPLETE'}})"
      ]
     },
     "execution_count": 46,
     "metadata": {},
     "output_type": "execute_result"
    }
   ],
   "source": [
    "# Define the mapping\n",
    "mapping = {\n",
    "    \"mappings\": {\n",
    "        \"properties\": {\"client_ip\": {\"type\": \"keyword\"}, \"env\": {\"type\": \"keyword\"}}\n",
    "    }\n",
    "}\n",
    "\n",
    "# Create the index with the mapping\n",
    "es.indices.create(index=\"clientips\", body=mapping)\n",
    "\n",
    "# Prepare bulk data\n",
    "bulk_data = [\n",
    "    {\"index\": {}},\n",
    "    {\"client_ip\": \"172.21.0.5\", \"env\": \"Development\"},\n",
    "    {\"index\": {}},\n",
    "    {\"client_ip\": \"172.21.2.113\", \"env\": \"QA\"},\n",
    "    {\"index\": {}},\n",
    "    {\"client_ip\": \"172.21.2.162\", \"env\": \"QA\"},\n",
    "    {\"index\": {}},\n",
    "    {\"client_ip\": \"172.21.3.15\", \"env\": \"Production\"},\n",
    "    {\"index\": {}},\n",
    "    {\"client_ip\": \"172.21.3.16\", \"env\": \"Production\"},\n",
    "]\n",
    "\n",
    "# Bulk index the data\n",
    "es.bulk(index=\"clientips\", body=bulk_data)\n",
    "\n",
    "# Define the enrich policy\n",
    "policy = {\n",
    "    \"match\": {\n",
    "        \"indices\": \"clientips\",\n",
    "        \"match_field\": \"client_ip\",\n",
    "        \"enrich_fields\": [\"env\"],\n",
    "    }\n",
    "}\n",
    "\n",
    "# Put the enrich policy\n",
    "es.enrich.put_policy(name=\"clientip_policy\", body=policy)\n",
    "\n",
    "# Execute the enrich policy without waiting for completion\n",
    "es.enrich.execute_policy(name=\"clientip_policy\", wait_for_completion=True)\n",
    "     "
   ]
  },
  {
   "cell_type": "code",
   "execution_count": 47,
   "id": "3a463c2a-2f12-421b-ac64-ff6263b252bb",
   "metadata": {},
   "outputs": [
    {
     "name": "stdout",
     "output_type": "stream",
     "text": [
      "@timestamp               | event_duration | client_ip    | env        \n",
      "----------------------------------------------------------------------\n",
      "2023-10-23T12:15:03.360Z | None           | None         | None       \n",
      "2023-10-23T12:27:28.948Z | None           | None         | None       \n",
      "2023-10-23T13:33:34.937Z | None           | None         | None       \n",
      "2023-10-23T13:51:54.732Z | None           | None         | None       \n",
      "2023-10-23T13:52:55.015Z | None           | None         | None       \n",
      "2023-10-23T13:53:55.832Z | None           | None         | None       \n",
      "2023-10-23T13:55:01.543Z | None           | None         | None       \n",
      "2023-10-23T12:15:03.360Z | 3450233        | 172.21.2.162 | QA         \n",
      "2023-10-23T12:27:28.948Z | 2764889        | 172.21.2.113 | QA         \n",
      "2023-10-23T13:33:34.937Z | 1232382        | 172.21.0.5   | Development\n",
      "2023-10-23T13:51:54.732Z | 725448         | 172.21.3.15  | Production \n",
      "2023-10-23T13:52:55.015Z | 8268153        | 172.21.3.15  | Production \n",
      "2023-10-23T13:53:55.832Z | 5033755        | 172.21.3.15  | Production \n",
      "2023-10-23T13:55:01.543Z | 1756467        | 172.21.3.15  | Production \n"
     ]
    }
   ],
   "source": [
    "esql_query = \"\"\"\n",
    "FROM sample_data\n",
    "| KEEP @timestamp, client_ip, event_duration\n",
    "| EVAL client_ip = TO_STRING(client_ip)\n",
    "| ENRICH clientip_policy ON client_ip WITH env\n",
    "\"\"\"\n",
    "response = es.esql.query(query=esql_query)\n",
    "format_response(response)"
   ]
  },
  {
   "cell_type": "markdown",
   "id": "87b061e7-7766-42c6-bb40-c3ec2d19a709",
   "metadata": {},
   "source": [
    "## You can use the new env column that’s added by the ENRICH command in subsequent commands. For example, to calculate the median duration per environment:"
   ]
  },
  {
   "cell_type": "code",
   "execution_count": 48,
   "id": "60bd10f1-0f56-4363-be62-cba380eb903b",
   "metadata": {},
   "outputs": [
    {
     "name": "stdout",
     "output_type": "stream",
     "text": [
      "median_duration | env        \n",
      "-----------------------------\n",
      "None            | None       \n",
      "3107561.0       | QA         \n",
      "1232382.0       | Development\n",
      "3395111.0       | Production \n"
     ]
    }
   ],
   "source": [
    "esql_query = \"\"\"\n",
    "FROM sample_data\n",
    "| KEEP @timestamp, client_ip, event_duration\n",
    "| EVAL client_ip = TO_STRING(client_ip)\n",
    "| ENRICH clientip_policy ON client_ip WITH env\n",
    "| STATS median_duration = MEDIAN(event_duration) BY env\n",
    "\"\"\"\n",
    "response = es.esql.query(query=esql_query)\n",
    "format_response(response)"
   ]
  },
  {
   "cell_type": "markdown",
   "id": "689180b4-fa15-4ffb-9d26-c8809490628f",
   "metadata": {},
   "source": [
    "# Process data"
   ]
  },
  {
   "cell_type": "code",
   "execution_count": 50,
   "id": "5574a640-0717-4b61-a2aa-969d0be6f31e",
   "metadata": {},
   "outputs": [
    {
     "name": "stdout",
     "output_type": "stream",
     "text": [
      "@timestamp               | client.ip    | client_ip    | client_ip.keyword | event.duration | event_duration | message               | server_ip\n",
      "------------------------------------------------------------------------------------------------------------------------------------------------\n",
      "2023-10-23T12:15:03.360Z | 172.21.2.162 | None         | None              | 3450233        | None           | Connected to 10.1.0.3 | 10.1.0.3 \n",
      "2023-10-23T12:27:28.948Z | 172.21.2.113 | None         | None              | 2764889        | None           | Connected to 10.1.0.2 | 10.1.0.2 \n",
      "2023-10-23T13:33:34.937Z | 172.21.0.5   | None         | None              | 1232382        | None           | Disconnected          | None     \n",
      "2023-10-23T13:51:54.732Z | 172.21.3.15  | None         | None              | 725448         | None           | Connection error      | None     \n",
      "2023-10-23T13:52:55.015Z | 172.21.3.15  | None         | None              | 8268153        | None           | Connection error      | None     \n",
      "2023-10-23T13:53:55.832Z | 172.21.3.15  | None         | None              | 5033755        | None           | Connection error      | None     \n",
      "2023-10-23T13:55:01.543Z | 172.21.3.15  | None         | None              | 1756467        | None           | Connected to 10.1.0.1 | 10.1.0.1 \n",
      "2023-10-23T12:15:03.360Z | None         | 172.21.2.162 | 172.21.2.162      | None           | 3450233        | Connected to 10.1.0.3 | 10.1.0.3 \n",
      "2023-10-23T12:27:28.948Z | None         | 172.21.2.113 | 172.21.2.113      | None           | 2764889        | Connected to 10.1.0.2 | 10.1.0.2 \n",
      "2023-10-23T13:33:34.937Z | None         | 172.21.0.5   | 172.21.0.5        | None           | 1232382        | Disconnected          | None     \n",
      "2023-10-23T13:51:54.732Z | None         | 172.21.3.15  | 172.21.3.15       | None           | 725448         | Connection error      | None     \n",
      "2023-10-23T13:52:55.015Z | None         | 172.21.3.15  | 172.21.3.15       | None           | 8268153        | Connection error      | None     \n",
      "2023-10-23T13:53:55.832Z | None         | 172.21.3.15  | 172.21.3.15       | None           | 5033755        | Connection error      | None     \n",
      "2023-10-23T13:55:01.543Z | None         | 172.21.3.15  | 172.21.3.15       | None           | 1756467        | Connected to 10.1.0.1 | 10.1.0.1 \n"
     ]
    }
   ],
   "source": [
    "esql_query = \"\"\"\n",
    "FROM sample_data\n",
    "| DISSECT message \"Connected to %{server_ip}\"\n",
    "\"\"\"\n",
    "response = es.esql.query(query=esql_query)\n",
    "format_response(response)"
   ]
  },
  {
   "cell_type": "code",
   "execution_count": 51,
   "id": "a0fcc8bc-6be0-448b-8e14-80f651b5096d",
   "metadata": {},
   "outputs": [
    {
     "name": "stdout",
     "output_type": "stream",
     "text": [
      "COUNT(*) | server_ip\n",
      "--------------------\n",
      "2        | 10.1.0.3 \n",
      "2        | 10.1.0.2 \n",
      "2        | 10.1.0.1 \n"
     ]
    }
   ],
   "source": [
    "esql_query = \"\"\"\n",
    "FROM sample_data\n",
    "| WHERE STARTS_WITH(message, \"Connected to\")\n",
    "| DISSECT message \"Connected to %{server_ip}\"\n",
    "| STATS COUNT(*) BY server_ip\n",
    "\"\"\"\n",
    "response = es.esql.query(query=esql_query)\n",
    "format_response(response)"
   ]
  },
  {
   "cell_type": "code",
   "execution_count": null,
   "id": "cc75fa90-abc4-4fba-a555-c35e12d6bd59",
   "metadata": {},
   "outputs": [],
   "source": []
  }
 ],
 "metadata": {
  "kernelspec": {
   "display_name": "test1",
   "language": "python",
   "name": "test1"
  },
  "language_info": {
   "codemirror_mode": {
    "name": "ipython",
    "version": 3
   },
   "file_extension": ".py",
   "mimetype": "text/x-python",
   "name": "python",
   "nbconvert_exporter": "python",
   "pygments_lexer": "ipython3",
   "version": "3.11.8"
  }
 },
 "nbformat": 4,
 "nbformat_minor": 5
}
